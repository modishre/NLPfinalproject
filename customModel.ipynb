{
 "cells": [
  {
   "cell_type": "markdown",
   "metadata": {},
   "source": [
    "*Dataset Preprocessing*"
   ]
  },
  {
   "cell_type": "code",
   "execution_count": 2,
   "metadata": {},
   "outputs": [
    {
     "name": "stderr",
     "output_type": "stream",
     "text": [
      "[nltk_data] Downloading package punkt to\n",
      "[nltk_data]     C:\\Users\\klkum\\AppData\\Roaming\\nltk_data...\n",
      "[nltk_data]   Package punkt is already up-to-date!\n",
      "[nltk_data] Downloading package stopwords to\n",
      "[nltk_data]     C:\\Users\\klkum\\AppData\\Roaming\\nltk_data...\n",
      "[nltk_data]   Unzipping corpora\\stopwords.zip.\n"
     ]
    },
    {
     "data": {
      "text/plain": [
       "True"
      ]
     },
     "execution_count": 2,
     "metadata": {},
     "output_type": "execute_result"
    }
   ],
   "source": [
    "import pandas as pd\n",
    "import numpy as np\n",
    "import nltk\n",
    "from nltk.tokenize import word_tokenize\n",
    "from nltk.corpus import stopwords\n",
    "import re\n",
    "nltk.download('punkt')\n",
    "nltk.download('stopwords')"
   ]
  },
  {
   "cell_type": "code",
   "execution_count": 4,
   "metadata": {},
   "outputs": [
    {
     "data": {
      "text/html": [
       "<div>\n",
       "<style scoped>\n",
       "    .dataframe tbody tr th:only-of-type {\n",
       "        vertical-align: middle;\n",
       "    }\n",
       "\n",
       "    .dataframe tbody tr th {\n",
       "        vertical-align: top;\n",
       "    }\n",
       "\n",
       "    .dataframe thead th {\n",
       "        text-align: right;\n",
       "    }\n",
       "</style>\n",
       "<table border=\"1\" class=\"dataframe\">\n",
       "  <thead>\n",
       "    <tr style=\"text-align: right;\">\n",
       "      <th></th>\n",
       "      <th>keywords</th>\n",
       "      <th>descriptions</th>\n",
       "      <th>target_keywords</th>\n",
       "    </tr>\n",
       "  </thead>\n",
       "  <tbody>\n",
       "    <tr>\n",
       "      <th>0</th>\n",
       "      <td>laptop carton comicbook</td>\n",
       "      <td>a laptop that has stickers on its cover is sit...</td>\n",
       "      <td>{'laptop'}</td>\n",
       "    </tr>\n",
       "    <tr>\n",
       "      <th>1</th>\n",
       "      <td>snorkel ski tennis ball</td>\n",
       "      <td>two frames of a woman in the air on a tennis c...</td>\n",
       "      <td>{'tennis'}</td>\n",
       "    </tr>\n",
       "    <tr>\n",
       "      <th>2</th>\n",
       "      <td>sorrel hog barrel</td>\n",
       "      <td>a brown horse eating from a hallowed out metal...</td>\n",
       "      <td>{'barrel'}</td>\n",
       "    </tr>\n",
       "    <tr>\n",
       "      <th>3</th>\n",
       "      <td>ballplayer baseball footballhelmet</td>\n",
       "      <td>a man throwing a baseball from a mound on a field</td>\n",
       "      <td>{'baseball'}</td>\n",
       "    </tr>\n",
       "    <tr>\n",
       "      <th>4</th>\n",
       "      <td>ballplayer baseball football helmet</td>\n",
       "      <td>a boys baseball game with a batter catcher and...</td>\n",
       "      <td>{'baseball'}</td>\n",
       "    </tr>\n",
       "  </tbody>\n",
       "</table>\n",
       "</div>"
      ],
      "text/plain": [
       "                              keywords  \\\n",
       "0              laptop carton comicbook   \n",
       "1              snorkel ski tennis ball   \n",
       "2                    sorrel hog barrel   \n",
       "3   ballplayer baseball footballhelmet   \n",
       "4  ballplayer baseball football helmet   \n",
       "\n",
       "                                        descriptions target_keywords  \n",
       "0  a laptop that has stickers on its cover is sit...      {'laptop'}  \n",
       "1  two frames of a woman in the air on a tennis c...      {'tennis'}  \n",
       "2  a brown horse eating from a hallowed out metal...      {'barrel'}  \n",
       "3  a man throwing a baseball from a mound on a field    {'baseball'}  \n",
       "4  a boys baseball game with a batter catcher and...    {'baseball'}  "
      ]
     },
     "execution_count": 4,
     "metadata": {},
     "output_type": "execute_result"
    }
   ],
   "source": [
    "file_path = 'data/COCO_overlaping_dataset.txt'\n",
    "\n",
    "data = []\n",
    "with open(file_path, 'r') as f:\n",
    "    for line in f:\n",
    "        parts = line.strip().split(',')\n",
    "        if len(parts) >= 3:\n",
    "          keywords, descriptions, target_keywords = parts[0], parts[1], parts[2]\n",
    "          data.append((keywords, descriptions, target_keywords))\n",
    "  \n",
    "df = pd.DataFrame(data, columns=['keywords', 'descriptions', 'target_keywords'])\n",
    "df.head()"
   ]
  },
  {
   "cell_type": "code",
   "execution_count": null,
   "metadata": {},
   "outputs": [
    {
     "name": "stdout",
     "output_type": "stream",
     "text": [
      "Total number of records: 70797\n"
     ]
    }
   ],
   "source": [
    "print(f\"Total number of records: {len(df)}\")"
   ]
  },
  {
   "cell_type": "code",
   "execution_count": 9,
   "metadata": {},
   "outputs": [
    {
     "name": "stdout",
     "output_type": "stream",
     "text": [
      "Descriptions cleaned successfully!\n"
     ]
    },
    {
     "data": {
      "text/html": [
       "<div>\n",
       "<style scoped>\n",
       "    .dataframe tbody tr th:only-of-type {\n",
       "        vertical-align: middle;\n",
       "    }\n",
       "\n",
       "    .dataframe tbody tr th {\n",
       "        vertical-align: top;\n",
       "    }\n",
       "\n",
       "    .dataframe thead th {\n",
       "        text-align: right;\n",
       "    }\n",
       "</style>\n",
       "<table border=\"1\" class=\"dataframe\">\n",
       "  <thead>\n",
       "    <tr style=\"text-align: right;\">\n",
       "      <th></th>\n",
       "      <th>descriptions</th>\n",
       "      <th>cleaned_descriptions</th>\n",
       "    </tr>\n",
       "  </thead>\n",
       "  <tbody>\n",
       "    <tr>\n",
       "      <th>0</th>\n",
       "      <td>a laptop that has stickers on its cover is sit...</td>\n",
       "      <td>laptop stickers cover sitting table</td>\n",
       "    </tr>\n",
       "    <tr>\n",
       "      <th>1</th>\n",
       "      <td>two frames of a woman in the air on a tennis c...</td>\n",
       "      <td>two frames woman air tennis court</td>\n",
       "    </tr>\n",
       "    <tr>\n",
       "      <th>2</th>\n",
       "      <td>a brown horse eating from a hallowed out metal...</td>\n",
       "      <td>brown horse eating hallowed metal barrel</td>\n",
       "    </tr>\n",
       "    <tr>\n",
       "      <th>3</th>\n",
       "      <td>a man throwing a baseball from a mound on a field</td>\n",
       "      <td>man throwing baseball mound field</td>\n",
       "    </tr>\n",
       "    <tr>\n",
       "      <th>4</th>\n",
       "      <td>a boys baseball game with a batter catcher and...</td>\n",
       "      <td>boys baseball game batter catcher umpire</td>\n",
       "    </tr>\n",
       "  </tbody>\n",
       "</table>\n",
       "</div>"
      ],
      "text/plain": [
       "                                        descriptions  \\\n",
       "0  a laptop that has stickers on its cover is sit...   \n",
       "1  two frames of a woman in the air on a tennis c...   \n",
       "2  a brown horse eating from a hallowed out metal...   \n",
       "3  a man throwing a baseball from a mound on a field   \n",
       "4  a boys baseball game with a batter catcher and...   \n",
       "\n",
       "                       cleaned_descriptions  \n",
       "0       laptop stickers cover sitting table  \n",
       "1         two frames woman air tennis court  \n",
       "2  brown horse eating hallowed metal barrel  \n",
       "3         man throwing baseball mound field  \n",
       "4  boys baseball game batter catcher umpire  "
      ]
     },
     "execution_count": 9,
     "metadata": {},
     "output_type": "execute_result"
    }
   ],
   "source": [
    "def preprocess_text(text):\n",
    "  text = re.sub(r\"[^a-zA-Z]\", \" \", text)\n",
    "  text = text.lower()\n",
    "  tokens = word_tokenize(text)\n",
    "  tokens = [word for word in tokens if word not in stopwords.words(\"english\")]\n",
    "  return \" \".join(tokens)\n",
    "\n",
    "df['cleaned_descriptions'] = df['descriptions'].apply(preprocess_text)\n",
    "print(\"Descriptions cleaned successfully!\")\n",
    "df[['descriptions', 'cleaned_descriptions']].head()"
   ]
  },
  {
   "cell_type": "code",
   "execution_count": null,
   "metadata": {},
   "outputs": [],
   "source": []
  }
 ],
 "metadata": {
  "kernelspec": {
   "display_name": "base",
   "language": "python",
   "name": "python3"
  },
  "language_info": {
   "codemirror_mode": {
    "name": "ipython",
    "version": 3
   },
   "file_extension": ".py",
   "mimetype": "text/x-python",
   "name": "python",
   "nbconvert_exporter": "python",
   "pygments_lexer": "ipython3",
   "version": "3.12.4"
  }
 },
 "nbformat": 4,
 "nbformat_minor": 2
}

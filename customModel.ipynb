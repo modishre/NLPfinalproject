{
 "cells": [
  {
   "cell_type": "markdown",
   "metadata": {},
   "source": [
    "*Dataset Preprocessing*"
   ]
  },
  {
   "cell_type": "code",
   "execution_count": 18,
   "metadata": {},
   "outputs": [
    {
     "name": "stderr",
     "output_type": "stream",
     "text": [
      "[nltk_data] Downloading package punkt to\n",
      "[nltk_data]     C:\\Users\\klkum\\AppData\\Roaming\\nltk_data...\n",
      "[nltk_data]   Package punkt is already up-to-date!\n",
      "[nltk_data] Downloading package stopwords to\n",
      "[nltk_data]     C:\\Users\\klkum\\AppData\\Roaming\\nltk_data...\n",
      "[nltk_data]   Package stopwords is already up-to-date!\n"
     ]
    },
    {
     "data": {
      "text/plain": [
       "True"
      ]
     },
     "execution_count": 18,
     "metadata": {},
     "output_type": "execute_result"
    }
   ],
   "source": [
    "import pandas as pd\n",
    "import numpy as np\n",
    "import nltk\n",
    "from nltk.tokenize import word_tokenize\n",
    "from nltk.corpus import stopwords\n",
    "import re\n",
    "nltk.download('punkt')\n",
    "nltk.download('stopwords')"
   ]
  },
  {
   "cell_type": "code",
   "execution_count": 19,
   "metadata": {},
   "outputs": [
    {
     "data": {
      "text/html": [
       "<div>\n",
       "<style scoped>\n",
       "    .dataframe tbody tr th:only-of-type {\n",
       "        vertical-align: middle;\n",
       "    }\n",
       "\n",
       "    .dataframe tbody tr th {\n",
       "        vertical-align: top;\n",
       "    }\n",
       "\n",
       "    .dataframe thead th {\n",
       "        text-align: right;\n",
       "    }\n",
       "</style>\n",
       "<table border=\"1\" class=\"dataframe\">\n",
       "  <thead>\n",
       "    <tr style=\"text-align: right;\">\n",
       "      <th></th>\n",
       "      <th>keywords</th>\n",
       "      <th>descriptions</th>\n",
       "      <th>target_keywords</th>\n",
       "    </tr>\n",
       "  </thead>\n",
       "  <tbody>\n",
       "    <tr>\n",
       "      <th>0</th>\n",
       "      <td>laptop carton comicbook</td>\n",
       "      <td>a laptop that has stickers on its cover is sit...</td>\n",
       "      <td>{'laptop'}</td>\n",
       "    </tr>\n",
       "    <tr>\n",
       "      <th>1</th>\n",
       "      <td>snorkel ski tennis ball</td>\n",
       "      <td>two frames of a woman in the air on a tennis c...</td>\n",
       "      <td>{'tennis'}</td>\n",
       "    </tr>\n",
       "    <tr>\n",
       "      <th>2</th>\n",
       "      <td>sorrel hog barrel</td>\n",
       "      <td>a brown horse eating from a hallowed out metal...</td>\n",
       "      <td>{'barrel'}</td>\n",
       "    </tr>\n",
       "    <tr>\n",
       "      <th>3</th>\n",
       "      <td>ballplayer baseball footballhelmet</td>\n",
       "      <td>a man throwing a baseball from a mound on a field</td>\n",
       "      <td>{'baseball'}</td>\n",
       "    </tr>\n",
       "    <tr>\n",
       "      <th>4</th>\n",
       "      <td>ballplayer baseball football helmet</td>\n",
       "      <td>a boys baseball game with a batter catcher and...</td>\n",
       "      <td>{'baseball'}</td>\n",
       "    </tr>\n",
       "  </tbody>\n",
       "</table>\n",
       "</div>"
      ],
      "text/plain": [
       "                              keywords  \\\n",
       "0              laptop carton comicbook   \n",
       "1              snorkel ski tennis ball   \n",
       "2                    sorrel hog barrel   \n",
       "3   ballplayer baseball footballhelmet   \n",
       "4  ballplayer baseball football helmet   \n",
       "\n",
       "                                        descriptions target_keywords  \n",
       "0  a laptop that has stickers on its cover is sit...      {'laptop'}  \n",
       "1  two frames of a woman in the air on a tennis c...      {'tennis'}  \n",
       "2  a brown horse eating from a hallowed out metal...      {'barrel'}  \n",
       "3  a man throwing a baseball from a mound on a field    {'baseball'}  \n",
       "4  a boys baseball game with a batter catcher and...    {'baseball'}  "
      ]
     },
     "execution_count": 19,
     "metadata": {},
     "output_type": "execute_result"
    }
   ],
   "source": [
    "file_path = 'data/COCO_overlaping_dataset.txt'\n",
    "\n",
    "data = []\n",
    "with open(file_path, 'r') as f:\n",
    "    for line in f:\n",
    "        parts = line.strip().split(',')\n",
    "        if len(parts) >= 3:\n",
    "          keywords, descriptions, target_keywords = parts[0], parts[1], parts[2]\n",
    "          data.append((keywords, descriptions, target_keywords))\n",
    "  \n",
    "df = pd.DataFrame(data, columns=['keywords', 'descriptions', 'target_keywords'])\n",
    "df.head()"
   ]
  },
  {
   "cell_type": "code",
   "execution_count": 20,
   "metadata": {},
   "outputs": [
    {
     "name": "stdout",
     "output_type": "stream",
     "text": [
      "Total number of records: 70797\n"
     ]
    }
   ],
   "source": [
    "print(f\"Total number of records: {len(df)}\")"
   ]
  },
  {
   "cell_type": "code",
   "execution_count": 21,
   "metadata": {},
   "outputs": [
    {
     "name": "stdout",
     "output_type": "stream",
     "text": [
      "Descriptions cleaned successfully!\n"
     ]
    },
    {
     "data": {
      "text/html": [
       "<div>\n",
       "<style scoped>\n",
       "    .dataframe tbody tr th:only-of-type {\n",
       "        vertical-align: middle;\n",
       "    }\n",
       "\n",
       "    .dataframe tbody tr th {\n",
       "        vertical-align: top;\n",
       "    }\n",
       "\n",
       "    .dataframe thead th {\n",
       "        text-align: right;\n",
       "    }\n",
       "</style>\n",
       "<table border=\"1\" class=\"dataframe\">\n",
       "  <thead>\n",
       "    <tr style=\"text-align: right;\">\n",
       "      <th></th>\n",
       "      <th>descriptions</th>\n",
       "      <th>tokenized_descriptions</th>\n",
       "    </tr>\n",
       "  </thead>\n",
       "  <tbody>\n",
       "    <tr>\n",
       "      <th>0</th>\n",
       "      <td>a laptop that has stickers on its cover is sit...</td>\n",
       "      <td>[laptop, stickers, cover, sitting, table]</td>\n",
       "    </tr>\n",
       "    <tr>\n",
       "      <th>1</th>\n",
       "      <td>two frames of a woman in the air on a tennis c...</td>\n",
       "      <td>[two, frames, woman, air, tennis, court]</td>\n",
       "    </tr>\n",
       "    <tr>\n",
       "      <th>2</th>\n",
       "      <td>a brown horse eating from a hallowed out metal...</td>\n",
       "      <td>[brown, horse, eating, hallowed, metal, barrel]</td>\n",
       "    </tr>\n",
       "    <tr>\n",
       "      <th>3</th>\n",
       "      <td>a man throwing a baseball from a mound on a field</td>\n",
       "      <td>[man, throwing, baseball, mound, field]</td>\n",
       "    </tr>\n",
       "    <tr>\n",
       "      <th>4</th>\n",
       "      <td>a boys baseball game with a batter catcher and...</td>\n",
       "      <td>[boys, baseball, game, batter, catcher, umpire]</td>\n",
       "    </tr>\n",
       "  </tbody>\n",
       "</table>\n",
       "</div>"
      ],
      "text/plain": [
       "                                        descriptions  \\\n",
       "0  a laptop that has stickers on its cover is sit...   \n",
       "1  two frames of a woman in the air on a tennis c...   \n",
       "2  a brown horse eating from a hallowed out metal...   \n",
       "3  a man throwing a baseball from a mound on a field   \n",
       "4  a boys baseball game with a batter catcher and...   \n",
       "\n",
       "                            tokenized_descriptions  \n",
       "0        [laptop, stickers, cover, sitting, table]  \n",
       "1         [two, frames, woman, air, tennis, court]  \n",
       "2  [brown, horse, eating, hallowed, metal, barrel]  \n",
       "3          [man, throwing, baseball, mound, field]  \n",
       "4  [boys, baseball, game, batter, catcher, umpire]  "
      ]
     },
     "execution_count": 21,
     "metadata": {},
     "output_type": "execute_result"
    }
   ],
   "source": [
    "def preprocess_text(text):\n",
    "  text = re.sub(r\"[^a-zA-Z]\", \" \", text)\n",
    "  text = text.lower()\n",
    "  tokens = word_tokenize(text)\n",
    "  tokens = [word for word in tokens if word not in stopwords.words(\"english\")]\n",
    "  return \" \".join(tokens)\n",
    "\n",
    "df['tokenized_descriptions'] = df['descriptions'].apply(preprocess_text).apply(word_tokenize)\n",
    "print(\"Descriptions cleaned successfully!\")\n",
    "df[['descriptions', 'tokenized_descriptions']].head()"
   ]
  },
  {
   "cell_type": "code",
   "execution_count": 22,
   "metadata": {},
   "outputs": [],
   "source": [
    "# df['primary_keyword'] = df['keywords'].apply(lambda x: x.split()[0] if x else '')\n",
    "# df['primary_keyword'] = df['primary_keyword'].apply(preprocess_text)\n",
    "\n",
    "# print('Keywords processed successfully!')\n",
    "# df[['keywords', 'primary_keyword']].head()"
   ]
  },
  {
   "cell_type": "code",
   "execution_count": 23,
   "metadata": {},
   "outputs": [
    {
     "name": "stdout",
     "output_type": "stream",
     "text": [
      "Training set size: 45309\n",
      "Validation set size: 11328\n",
      "Test set size: 14160\n"
     ]
    }
   ],
   "source": [
    "from sklearn.model_selection import train_test_split\n",
    "\n",
    "train, test = train_test_split(df, test_size=0.2, random_state=42)\n",
    "train, val = train_test_split(train, test_size=0.2, random_state=42)\n",
    "\n",
    "print(f\"Training set size: {len(train)}\")\n",
    "print(f\"Validation set size: {len(val)}\")\n",
    "print(f\"Test set size: {len(test)}\")"
   ]
  },
  {
   "cell_type": "code",
   "execution_count": 24,
   "metadata": {},
   "outputs": [],
   "source": [
    "train['tokenized_descriptions'] = train['descriptions'].apply(word_tokenize)\n",
    "val['tokenized_descriptions'] = val['descriptions'].apply(word_tokenize)\n",
    "test['tokenized_descriptions'] = test['descriptions'].apply(word_tokenize)"
   ]
  },
  {
   "cell_type": "code",
   "execution_count": 25,
   "metadata": {},
   "outputs": [
    {
     "name": "stdout",
     "output_type": "stream",
     "text": [
      "Vocabulary size: 9128\n"
     ]
    }
   ],
   "source": [
    "from collections import Counter\n",
    "\n",
    "all_tokens = [token for tokens in train['tokenized_descriptions'] for token in tokens]\n",
    "\n",
    "token_freq = Counter(all_tokens)\n",
    "\n",
    "vocab = {word: idx + 1 for idx, (word, _) in enumerate(token_freq.most_common())}\n",
    "vocab['<PAD>'] = 0\n",
    "print(f\"Vocabulary size: {len(vocab)}\")"
   ]
  },
  {
   "cell_type": "code",
   "execution_count": 26,
   "metadata": {},
   "outputs": [
    {
     "data": {
      "text/html": [
       "<div>\n",
       "<style scoped>\n",
       "    .dataframe tbody tr th:only-of-type {\n",
       "        vertical-align: middle;\n",
       "    }\n",
       "\n",
       "    .dataframe tbody tr th {\n",
       "        vertical-align: top;\n",
       "    }\n",
       "\n",
       "    .dataframe thead th {\n",
       "        text-align: right;\n",
       "    }\n",
       "</style>\n",
       "<table border=\"1\" class=\"dataframe\">\n",
       "  <thead>\n",
       "    <tr style=\"text-align: right;\">\n",
       "      <th></th>\n",
       "      <th>tokenized_descriptions</th>\n",
       "      <th>sequences</th>\n",
       "    </tr>\n",
       "  </thead>\n",
       "  <tbody>\n",
       "    <tr>\n",
       "      <th>55564</th>\n",
       "      <td>[a, well, cooked, pizza, on, a, plate, not, ye...</td>\n",
       "      <td>[1, 691, 402, 20, 2, 1, 14, 676, 2280, 247, 15...</td>\n",
       "    </tr>\n",
       "    <tr>\n",
       "      <th>19778</th>\n",
       "      <td>[a, bear, sitting, on, a, bench, in, a, park]</td>\n",
       "      <td>[1, 42, 11, 2, 1, 63, 7, 1, 154]</td>\n",
       "    </tr>\n",
       "    <tr>\n",
       "      <th>15434</th>\n",
       "      <td>[an, old, model, truck, riding, past, a, park,...</td>\n",
       "      <td>[10, 159, 1241, 62, 128, 531, 1, 154, 136, 4, ...</td>\n",
       "    </tr>\n",
       "    <tr>\n",
       "      <th>61716</th>\n",
       "      <td>[four, girls, smile, while, posing, with, a, p...</td>\n",
       "      <td>[303, 469, 1448, 70, 340, 4, 1, 20]</td>\n",
       "    </tr>\n",
       "    <tr>\n",
       "      <th>56965</th>\n",
       "      <td>[work, truck, backed, up, to, the, business, o...</td>\n",
       "      <td>[473, 62, 2281, 37, 9, 5, 737, 315]</td>\n",
       "    </tr>\n",
       "  </tbody>\n",
       "</table>\n",
       "</div>"
      ],
      "text/plain": [
       "                                  tokenized_descriptions  \\\n",
       "55564  [a, well, cooked, pizza, on, a, plate, not, ye...   \n",
       "19778      [a, bear, sitting, on, a, bench, in, a, park]   \n",
       "15434  [an, old, model, truck, riding, past, a, park,...   \n",
       "61716  [four, girls, smile, while, posing, with, a, p...   \n",
       "56965  [work, truck, backed, up, to, the, business, o...   \n",
       "\n",
       "                                               sequences  \n",
       "55564  [1, 691, 402, 20, 2, 1, 14, 676, 2280, 247, 15...  \n",
       "19778                   [1, 42, 11, 2, 1, 63, 7, 1, 154]  \n",
       "15434  [10, 159, 1241, 62, 128, 531, 1, 154, 136, 4, ...  \n",
       "61716                [303, 469, 1448, 70, 340, 4, 1, 20]  \n",
       "56965                [473, 62, 2281, 37, 9, 5, 737, 315]  "
      ]
     },
     "execution_count": 26,
     "metadata": {},
     "output_type": "execute_result"
    }
   ],
   "source": [
    "def tokens_to_sequence(tokens, vocab):\n",
    "    return [vocab[token] for token in tokens if token in vocab]\n",
    "\n",
    "train['sequences'] = train['tokenized_descriptions'].apply(lambda x: tokens_to_sequence(x, vocab))\n",
    "val['sequences'] = val['tokenized_descriptions'].apply(lambda x: tokens_to_sequence(x, vocab))\n",
    "test['sequences'] = test['tokenized_descriptions'].apply(lambda x: tokens_to_sequence(x, vocab))\n",
    "\n",
    "train[['tokenized_descriptions', 'sequences']].head()"
   ]
  },
  {
   "cell_type": "code",
   "execution_count": 27,
   "metadata": {},
   "outputs": [
    {
     "name": "stdout",
     "output_type": "stream",
     "text": [
      "Maximum sequence length: 41\n"
     ]
    },
    {
     "data": {
      "text/html": [
       "<div>\n",
       "<style scoped>\n",
       "    .dataframe tbody tr th:only-of-type {\n",
       "        vertical-align: middle;\n",
       "    }\n",
       "\n",
       "    .dataframe tbody tr th {\n",
       "        vertical-align: top;\n",
       "    }\n",
       "\n",
       "    .dataframe thead th {\n",
       "        text-align: right;\n",
       "    }\n",
       "</style>\n",
       "<table border=\"1\" class=\"dataframe\">\n",
       "  <thead>\n",
       "    <tr style=\"text-align: right;\">\n",
       "      <th></th>\n",
       "      <th>sequences</th>\n",
       "      <th>padded_sequences</th>\n",
       "    </tr>\n",
       "  </thead>\n",
       "  <tbody>\n",
       "    <tr>\n",
       "      <th>55564</th>\n",
       "      <td>[1, 691, 402, 20, 2, 1, 14, 676, 2280, 247, 15...</td>\n",
       "      <td>[1, 691, 402, 20, 2, 1, 14, 676, 2280, 247, 15...</td>\n",
       "    </tr>\n",
       "    <tr>\n",
       "      <th>19778</th>\n",
       "      <td>[1, 42, 11, 2, 1, 63, 7, 1, 154]</td>\n",
       "      <td>[1, 42, 11, 2, 1, 63, 7, 1, 154, 0, 0, 0, 0, 0...</td>\n",
       "    </tr>\n",
       "    <tr>\n",
       "      <th>15434</th>\n",
       "      <td>[10, 159, 1241, 62, 128, 531, 1, 154, 136, 4, ...</td>\n",
       "      <td>[10, 159, 1241, 62, 128, 531, 1, 154, 136, 4, ...</td>\n",
       "    </tr>\n",
       "    <tr>\n",
       "      <th>61716</th>\n",
       "      <td>[303, 469, 1448, 70, 340, 4, 1, 20]</td>\n",
       "      <td>[303, 469, 1448, 70, 340, 4, 1, 20, 0, 0, 0, 0...</td>\n",
       "    </tr>\n",
       "    <tr>\n",
       "      <th>56965</th>\n",
       "      <td>[473, 62, 2281, 37, 9, 5, 737, 315]</td>\n",
       "      <td>[473, 62, 2281, 37, 9, 5, 737, 315, 0, 0, 0, 0...</td>\n",
       "    </tr>\n",
       "  </tbody>\n",
       "</table>\n",
       "</div>"
      ],
      "text/plain": [
       "                                               sequences  \\\n",
       "55564  [1, 691, 402, 20, 2, 1, 14, 676, 2280, 247, 15...   \n",
       "19778                   [1, 42, 11, 2, 1, 63, 7, 1, 154]   \n",
       "15434  [10, 159, 1241, 62, 128, 531, 1, 154, 136, 4, ...   \n",
       "61716                [303, 469, 1448, 70, 340, 4, 1, 20]   \n",
       "56965                [473, 62, 2281, 37, 9, 5, 737, 315]   \n",
       "\n",
       "                                        padded_sequences  \n",
       "55564  [1, 691, 402, 20, 2, 1, 14, 676, 2280, 247, 15...  \n",
       "19778  [1, 42, 11, 2, 1, 63, 7, 1, 154, 0, 0, 0, 0, 0...  \n",
       "15434  [10, 159, 1241, 62, 128, 531, 1, 154, 136, 4, ...  \n",
       "61716  [303, 469, 1448, 70, 340, 4, 1, 20, 0, 0, 0, 0...  \n",
       "56965  [473, 62, 2281, 37, 9, 5, 737, 315, 0, 0, 0, 0...  "
      ]
     },
     "execution_count": 27,
     "metadata": {},
     "output_type": "execute_result"
    }
   ],
   "source": [
    "def pad_sequence(sequence, max_length, pad_token=0):\n",
    "    \"\"\"\n",
    "    Pads a sequence with the pad_token to match the max_length.\n",
    "    Truncates if the sequence is longer than max_length.\n",
    "    \"\"\"\n",
    "    if len(sequence) < max_length:\n",
    "        return sequence + [pad_token] * (max_length - len(sequence))\n",
    "    else:\n",
    "        return sequence[:max_length]\n",
    "\n",
    "max_length = max(len(seq) for seq in train['sequences'])\n",
    "print(f\"Maximum sequence length: {max_length}\")\n",
    "\n",
    "train['padded_sequences'] = train['sequences'].apply(lambda x: pad_sequence(x, max_length))\n",
    "val['padded_sequences'] = val['sequences'].apply(lambda x: pad_sequence(x, max_length))\n",
    "test['padded_sequences'] = test['sequences'].apply(lambda x: pad_sequence(x, max_length))\n",
    "\n",
    "train[['sequences', 'padded_sequences']].head()"
   ]
  },
  {
   "cell_type": "code",
   "execution_count": null,
   "metadata": {},
   "outputs": [
    {
     "name": "stdout",
     "output_type": "stream",
     "text": [
      "Padded sequences and vocabulary saved successfully!\n"
     ]
    }
   ],
   "source": [
    "train[['padded_sequences']].to_csv('data/train_padded.csv', index=False)\n",
    "val[['padded_sequences']].to_csv('data/val_padded.csv', index=False)\n",
    "test[['padded_sequences']].to_csv('data/test_padded.csv', index=False)\n",
    "\n",
    "import json\n",
    "with open('vocabulary.json', 'w') as vocab_file:\n",
    "    json.dump(vocab, vocab_file)\n",
    "\n",
    "print(\"Padded sequences and vocabulary saved successfully!\")"
   ]
  }
 ],
 "metadata": {
  "kernelspec": {
   "display_name": "base",
   "language": "python",
   "name": "python3"
  },
  "language_info": {
   "codemirror_mode": {
    "name": "ipython",
    "version": 3
   },
   "file_extension": ".py",
   "mimetype": "text/x-python",
   "name": "python",
   "nbconvert_exporter": "python",
   "pygments_lexer": "ipython3",
   "version": "3.12.4"
  }
 },
 "nbformat": 4,
 "nbformat_minor": 2
}
